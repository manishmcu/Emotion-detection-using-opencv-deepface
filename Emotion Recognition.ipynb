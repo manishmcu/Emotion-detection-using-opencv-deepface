{
 "cells": [
  {
   "cell_type": "markdown",
   "id": "2b786fde",
   "metadata": {},
   "source": [
    "## Real time video demo for Emotion Recognition"
   ]
  },
  {
   "cell_type": "markdown",
   "id": "eb488a97",
   "metadata": {},
   "source": [
    "### 1. Please do the test under full lighting condition, otherwise your face will not be detected and code will arise error\n",
    "### 2. Please don't move your face randomly"
   ]
  },
  {
   "cell_type": "code",
   "execution_count": null,
   "id": "aa5e53a9",
   "metadata": {},
   "outputs": [],
   "source": [
    "import cv2   ## pip install opencv-python\n",
    "## pip install opencv-contrib-python -> full package\n",
    "from deepface import DeepFace\n",
    "\n",
    "faceCascade = cv2.CascadeClassifier(cv2.data.haarcascades + \"haarcascade_frontalface_default.xml\") #Note the change\n",
    "\n",
    "cap = cv2.VideoCapture(0)\n",
    "#Check if the webcam is opened correctly\n",
    "if not cap.isOpened():\n",
    "    cap = cv2.VideoCapture(1)\n",
    "if not cap.isOpened():\n",
    "    raise IOError(\"Cannot open webcam\")\n",
    "    \n",
    "while True:\n",
    "    ret,frame = cap.read()\n",
    "    result = DeepFace.analyze(frame, actions = ['emotion'])\n",
    "    \n",
    "    gray = cv2.cvtColor(frame, cv2.COLOR_BGR2GRAY)\n",
    "    faces=faceCascade.detectMultiScale(gray, scaleFactor=1.1, minNeighbors=4)\n",
    "    \n",
    "    for(x, y, w, h) in faces:\n",
    "        cv2.rectangle(frame, (x,y), (x+w, y+h), (0,255,0), 2)\n",
    "    \n",
    "    font = cv2.FONT_HERSHEY_SIMPLEX\n",
    "\n",
    "    # Use putText() method for\n",
    "    # inserting text on video\n",
    "    \n",
    "    cv2.putText(frame,\n",
    "                result['dominant_emotion'],\n",
    "                (50,50),\n",
    "                font, 3,\n",
    "                (0,0,255),\n",
    "                2,\n",
    "                cv2.LINE_4)\n",
    "    cv2.imshow('Original video', frame)\n",
    "    \n",
    "    if cv2.waitKey(2) & 0xFF == ord('q'):\n",
    "        break\n",
    "\n",
    "cap.release()\n",
    "cv2.destroyAllWindows()\n"
   ]
  },
  {
   "cell_type": "code",
   "execution_count": null,
   "id": "623c6545",
   "metadata": {},
   "outputs": [],
   "source": []
  }
 ],
 "metadata": {
  "kernelspec": {
   "display_name": "Python 3 (ipykernel)",
   "language": "python",
   "name": "python3"
  },
  "language_info": {
   "codemirror_mode": {
    "name": "ipython",
    "version": 3
   },
   "file_extension": ".py",
   "mimetype": "text/x-python",
   "name": "python",
   "nbconvert_exporter": "python",
   "pygments_lexer": "ipython3",
   "version": "3.9.12"
  }
 },
 "nbformat": 4,
 "nbformat_minor": 5
}
